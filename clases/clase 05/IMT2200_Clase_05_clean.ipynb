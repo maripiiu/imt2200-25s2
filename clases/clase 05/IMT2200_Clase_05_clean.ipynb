{
 "cells": [
  {
   "cell_type": "markdown",
   "id": "b3cce978",
   "metadata": {},
   "source": [
    "# <img style=\"float: left; padding-right: 20px; width: 200px\" src=\"https://raw.githubusercontent.com/raxlab/imt2200-data/main/media/logo.jpg\">  IMT 2200 - Introducción a Ciencia de Datos\n",
    "**Pontificia Universidad Católica de Chile**<br>\n",
    "**Instituto de Ingeniería Matemática y Computacional**<br>\n",
    "**Semestre 2025-S2**<br>\n",
    "**Profesor:** Rodrigo A. Carrasco <br>\n",
    "---"
   ]
  },
  {
   "cell_type": "markdown",
   "id": "3c63e93f",
   "metadata": {},
   "source": [
    "\n",
    "# <h1><center>Clase 05: Acceso a datos en internet con `requests`</center></h1>\n",
    "\n",
    "**Objetivo:** mostrar, con ejemplos prácticos, cómo usar la librería `requests` para obtener datos desde la web (JSON, CSV, binarios), manejar parámetros, errores y guardar los resultados para su análisis con `pandas`."
   ]
  },
  {
   "cell_type": "markdown",
   "id": "71df5a63",
   "metadata": {},
   "source": [
    "\n",
    "## 1. Setup\n",
    "\n",
    "Instalaremos/Importaremos las librerías necesarias. En equipos con Anaconda, ya deberían estar disponibles.\n"
   ]
  },
  {
   "cell_type": "code",
   "execution_count": null,
   "id": "fa8262b5",
   "metadata": {},
   "outputs": [],
   "source": [
    "import requests\n",
    "import pandas as pd\n",
    "from pathlib import Path\n",
    "from time import sleep\n",
    "print(\"Librerías listas.\")"
   ]
  },
  {
   "cell_type": "markdown",
   "id": "6fb12dd3",
   "metadata": {},
   "source": [
    "\n",
    "## 2. Descarga de **CSV** desde una URL directa (raw.githubusercontent.com)\n",
    "\n",
    "Usaremos un dataset público del repositorio **FiveThirtyEight** (college majors).**URL:** `https://raw.githubusercontent.com/fivethirtyeight/data/master/college-majors/recent-grads.csv`\n",
    "\n",
    "Demostraremos:\n",
    "- Descarga con `requests.get`\n",
    "- Guardado local en `data/`\n",
    "- Carga con `pandas.read_csv`\n",
    "- Verificación del tamaño descargado\n"
   ]
  },
  {
   "cell_type": "code",
   "execution_count": null,
   "id": "9029c1e1",
   "metadata": {},
   "outputs": [],
   "source": [
    "# URL del CSV con los datos\n",
    "csv_url = \"https://raw.githubusercontent.com/fivethirtyeight/data/master/college-majors/recent-grads.csv\"\n",
    "# lugar donde guardarlo en el computador local\n",
    "out_dir = Path(\"data\")\n",
    "out_dir.mkdir(exist_ok=True)\n",
    "csv_path = out_dir / \"recent-grads.csv\"\n",
    "\n",
    "# solicitar los datos\n",
    "r = requests.get(csv_url, timeout=30)\n",
    "r.raise_for_status()  # Lanza error si el status no es 200\n",
    "csv_path.write_bytes(r.content)\n",
    "\n",
    "print(\"Guardado en:\", csv_path.resolve())\n",
    "print(\"Tamaño (bytes):\", csv_path.stat().st_size)"
   ]
  },
  {
   "cell_type": "code",
   "execution_count": null,
   "id": "80284168",
   "metadata": {},
   "outputs": [],
   "source": [
    "df_csv = pd.read_csv(csv_path)\n",
    "df_csv.head()"
   ]
  },
  {
   "cell_type": "markdown",
   "id": "4e9116cd",
   "metadata": {},
   "source": [
    "\n",
    "## 3. Manejo de **errores** y **timeouts**\n",
    "\n",
    "Buenas prácticas:\n",
    "- Usar `timeout=` para evitar que el programa quede colgado.\n",
    "- Verificar `response.status_code` o usar `raise_for_status()`.\n",
    "- Capturar excepciones con `try/except` y registrar mensajes útiles.\n"
   ]
  },
  {
   "cell_type": "code",
   "execution_count": null,
   "id": "22a21206",
   "metadata": {},
   "outputs": [],
   "source": [
    "bad_url = \"https://api.github.com/this/endpoint/does/not/exist\"\n",
    "\n",
    "try:\n",
    "    r = requests.get(bad_url, timeout=5)\n",
    "    r.raise_for_status()\n",
    "except requests.exceptions.HTTPError as e:\n",
    "    print(\"HTTPError:\", e)\n",
    "except requests.exceptions.Timeout:\n",
    "    print(\"Timeout alcanzado.\")\n",
    "except requests.exceptions.RequestException as e:\n",
    "    print(\"Error de red:\", e)"
   ]
  },
  {
   "cell_type": "markdown",
   "id": "dd043fb7",
   "metadata": {},
   "source": [
    "\n",
    "## 4. Sesiones y cabeceras personalizadas (`Session`), backoff simple\n",
    "\n",
    "A veces conviene reutilizar conexiones con `requests.Session()` y establecer **cabeceras** (headers) comunes. También podemos implementar un **reintento simple** (backoff) frente a códigos temporales (p. ej., 429 o 5xx).\n"
   ]
  },
  {
   "cell_type": "code",
   "execution_count": null,
   "id": "2baf6e30",
   "metadata": {},
   "outputs": [],
   "source": [
    "session = requests.Session()\n",
    "session.headers.update({\n",
    "    \"Accept\": \"application/vnd.github+json\",\n",
    "    \"User-Agent\": \"imt2200-class-notebook\"\n",
    "})\n",
    "\n",
    "def get_with_retry(url, params=None, max_retries=3, backoff=2):\n",
    "    for i in range(1, max_retries+1):\n",
    "        resp = session.get(url, params=params, timeout=15)\n",
    "        if resp.status_code == 200:\n",
    "            return resp\n",
    "        print(f\"Intento {i}: status {resp.status_code}. Reintentando en {backoff} s...\")\n",
    "        sleep(backoff)\n",
    "    resp.raise_for_status()\n",
    "\n",
    "# Prueba reutilizando la API de GitHub (misma consulta de antes)\n",
    "resp_ok = get_with_retry(\"https://api.github.com/search/repositories\", params={\n",
    "    \"q\": \"geopandas language:python\",\n",
    "    \"sort\": \"stars\",\n",
    "    \"order\": \"desc\",\n",
    "    \"per_page\": 5\n",
    "})\n",
    "pd.json_normalize(resp_ok.json().get(\"items\", []))[[\"full_name\",\"stargazers_count\",\"html_url\"]].head()"
   ]
  },
  {
   "cell_type": "markdown",
   "id": "7e27094b",
   "metadata": {},
   "source": [
    "\n",
    "## 5. De **JSON anidado** a **tabla** (normalización)\n",
    "\n",
    "Cuando la respuesta incluye estructuras anidadas, `pandas.json_normalize` ayuda a \"aplanar\" el JSON.\n"
   ]
  },
  {
   "cell_type": "code",
   "execution_count": null,
   "id": "ffdfd294",
   "metadata": {},
   "outputs": [],
   "source": [
    "headers = {\n",
    "    \"Accept\": \"application/vnd.github+json\",\n",
    "    \"User-Agent\": \"imt2200-class-notebook\"\n",
    "}\n",
    "resp = requests.get(\"https://api.github.com/repos/pandas-dev/pandas/issues\",\n",
    "                    params={\"state\":\"open\", \"per_page\":10},\n",
    "                    headers=headers, timeout=15)"
   ]
  },
  {
   "cell_type": "code",
   "execution_count": null,
   "id": "73936727",
   "metadata": {},
   "outputs": [],
   "source": [
    "issues = resp.json()\n",
    "issues_df = pd.json_normalize(issues, sep=\"_\", max_level=2)[[\"number\",\"title\",\"state\",\"user_login\",\"comments\",\"created_at\",\"updated_at\",\"html_url\"]]\n",
    "issues_df.head()"
   ]
  },
  {
   "cell_type": "markdown",
   "id": "2d63ac35",
   "metadata": {},
   "source": [
    "\n",
    "## 6. Guardar resultados procesados\n",
    "\n",
    "Exportamos a CSV/Parquet para reutilizar los datos luego, sin necesidad de volver a llamar a la API.\n"
   ]
  },
  {
   "cell_type": "code",
   "execution_count": null,
   "id": "af68eceb",
   "metadata": {},
   "outputs": [],
   "source": [
    "# lugar donde almacenar los datos\n",
    "proc_dir = Path(\"outputs\")\n",
    "proc_dir.mkdir(exist_ok=True)\n",
    "\n",
    "# grabar\n",
    "issues_df.to_csv(proc_dir / \"pandas_issues_sample.csv\", index=False)\n",
    "print(\"Archivos exportados en:\", proc_dir.resolve())"
   ]
  },
  {
   "cell_type": "markdown",
   "id": "c39cd6a8",
   "metadata": {},
   "source": [
    "\n",
    "---\n",
    "\n",
    "### 📌 Buenas prácticas y ética de uso\n",
    "\n",
    "- **Respeta** los términos de uso de las APIs y sitios web (TOS).  No hagas scraping de sitios que lo prohíben o requieran autenticación.  \n",
    "- Revisa **límites de rate limit** (p. ej., GitHub limita requests por minuto sin token).  \n",
    "- **Cachea** o guarda resultados para evitar llamadas innecesarias.  \n",
    "- **Identifícate** con un `User-Agent` claro y usa `timeout` y reintentos responsables.  \n",
    "- Cita las **fuentes** y documenta el **proceso** en tu repositorio.\n",
    "\n",
    "---\n"
   ]
  }
 ],
 "metadata": {
  "kernelspec": {
   "display_name": "Python 3 (ipykernel)",
   "language": "python",
   "name": "python3"
  },
  "language_info": {
   "codemirror_mode": {
    "name": "ipython",
    "version": 3
   },
   "file_extension": ".py",
   "mimetype": "text/x-python",
   "name": "python",
   "nbconvert_exporter": "python",
   "pygments_lexer": "ipython3",
   "version": "3.11.5"
  }
 },
 "nbformat": 4,
 "nbformat_minor": 5
}
